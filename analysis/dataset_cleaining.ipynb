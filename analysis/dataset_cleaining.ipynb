{
 "cells": [
  {
   "cell_type": "code",
   "execution_count": 10,
   "metadata": {},
   "outputs": [],
   "source": [
    "from pandas import read_csv\n",
    "from scripts.dataset_preprocessing import binning_date_by_period, label_encode_dataframe, drop_outliers"
   ]
  },
  {
   "cell_type": "code",
   "execution_count": 11,
   "metadata": {},
   "outputs": [
    {
     "name": "stdout",
     "output_type": "stream",
     "text": [
      "<class 'pandas.core.frame.DataFrame'>\n",
      "RangeIndex: 2240 entries, 0 to 2239\n",
      "Data columns (total 29 columns):\n",
      " #   Column               Non-Null Count  Dtype  \n",
      "---  ------               --------------  -----  \n",
      " 0   ID                   2240 non-null   int64  \n",
      " 1   Year_Birth           2240 non-null   int64  \n",
      " 2   Education            2240 non-null   object \n",
      " 3   Marital_Status       2240 non-null   object \n",
      " 4   Income               2216 non-null   float64\n",
      " 5   Kidhome              2240 non-null   int64  \n",
      " 6   Teenhome             2240 non-null   int64  \n",
      " 7   Dt_Customer          2240 non-null   object \n",
      " 8   Recency              2240 non-null   int64  \n",
      " 9   MntWines             2240 non-null   int64  \n",
      " 10  MntFruits            2240 non-null   int64  \n",
      " 11  MntMeatProducts      2240 non-null   int64  \n",
      " 12  MntFishProducts      2240 non-null   int64  \n",
      " 13  MntSweetProducts     2240 non-null   int64  \n",
      " 14  MntGoldProds         2240 non-null   int64  \n",
      " 15  NumDealsPurchases    2240 non-null   int64  \n",
      " 16  NumWebPurchases      2240 non-null   int64  \n",
      " 17  NumCatalogPurchases  2240 non-null   int64  \n",
      " 18  NumStorePurchases    2240 non-null   int64  \n",
      " 19  NumWebVisitsMonth    2240 non-null   int64  \n",
      " 20  AcceptedCmp3         2240 non-null   int64  \n",
      " 21  AcceptedCmp4         2240 non-null   int64  \n",
      " 22  AcceptedCmp5         2240 non-null   int64  \n",
      " 23  AcceptedCmp1         2240 non-null   int64  \n",
      " 24  AcceptedCmp2         2240 non-null   int64  \n",
      " 25  Complain             2240 non-null   int64  \n",
      " 26  Z_CostContact        2240 non-null   int64  \n",
      " 27  Z_Revenue            2240 non-null   int64  \n",
      " 28  Response             2240 non-null   int64  \n",
      "dtypes: float64(1), int64(25), object(3)\n",
      "memory usage: 507.6+ KB\n"
     ]
    }
   ],
   "source": [
    "dataframe = read_csv('../data/raw/marketing_campaign.csv')\n",
    "dataframe.info()"
   ]
  },
  {
   "cell_type": "markdown",
   "metadata": {},
   "source": [
    "### UNDEBATTABLE ACTIONS\n",
    "As we've seen with the exploratory anaylsis, some feature are useless because of the unique values, or useless in a model.  \n",
    "The **Dt_Customer** is interesting to be plot, however in a model the multiple categories are irelevant.  \n",
    "The others categoricals values will be either LabelEncode or OneHotEncode, we coul LabelEncode it in a first place.  \n",
    "***"
   ]
  },
  {
   "cell_type": "code",
   "execution_count": 12,
   "metadata": {},
   "outputs": [],
   "source": [
    "dataframe.drop(columns=['ID', 'Z_Revenue', 'Z_CostContact'], inplace=True)\n",
    "dataframe['Dt_Customer'] = dataframe['Dt_Customer'].apply(binning_date_by_period, args=('Year',))"
   ]
  },
  {
   "cell_type": "code",
   "execution_count": 13,
   "metadata": {},
   "outputs": [],
   "source": [
    "categorical_columns = ['Education', 'Marital_Status', 'Dt_Customer']\n",
    "dataframe = label_encode_dataframe(dataframe, categorical_columns)"
   ]
  },
  {
   "cell_type": "markdown",
   "metadata": {},
   "source": [
    "### DEBATTABLE ACTIONS  \n",
    "The remaining clean to do is about : outliers & missing values.  \n",
    "In our case, we'll create 3 datasets to 3 different handles : \n",
    "- Dropping missing values & dropping outliers\n",
    "- Filling missing values with median & dropping outliers\n",
    "- Filling missing values with median (with outliers)\n",
    "***"
   ]
  },
  {
   "cell_type": "code",
   "execution_count": 14,
   "metadata": {},
   "outputs": [],
   "source": [
    "outliers_columns = ['Year_Birth', 'Income', 'MntWines', 'MntFruits', 'MntMeatProducts', 'MntFishProducts', 'MntSweetProducts', 'MntGoldProds', 'NumDealsPurchases', 'NumWebPurchases', 'NumCatalogPurchases', 'NumWebVisitsMonth']"
   ]
  },
  {
   "cell_type": "code",
   "execution_count": 15,
   "metadata": {},
   "outputs": [],
   "source": [
    "#Drop NA & outliers\n",
    "dopna_outliers_data = dataframe.copy()\n",
    "\n",
    "dopna_outliers_data.dropna(inplace=True)\n",
    "dopna_outliers_data = drop_outliers(dopna_outliers_data, outliers_columns, 90)\n",
    "\n",
    "dopna_outliers_data.to_csv('../data/cleaned/marketing_campaign_dropna_no_outliers.csv')"
   ]
  },
  {
   "cell_type": "code",
   "execution_count": 16,
   "metadata": {},
   "outputs": [
    {
     "name": "stderr",
     "output_type": "stream",
     "text": [
      "/tmp/ipykernel_109092/2553412056.py:4: FutureWarning: A value is trying to be set on a copy of a DataFrame or Series through chained assignment using an inplace method.\n",
      "The behavior will change in pandas 3.0. This inplace method will never work because the intermediate object on which we are setting values always behaves as a copy.\n",
      "\n",
      "For example, when doing 'df[col].method(value, inplace=True)', try using 'df.method({col: value}, inplace=True)' or df[col] = df[col].method(value) instead, to perform the operation inplace on the original object.\n",
      "\n",
      "\n",
      "  fillna_outliers_data['Income'].fillna(fillna_outliers_data['Income'].median(), inplace=True)\n"
     ]
    }
   ],
   "source": [
    "#Fill NA & drop outliers\n",
    "fillna_outliers_data = dataframe.copy()\n",
    "\n",
    "fillna_outliers_data['Income'].fillna(fillna_outliers_data['Income'].median(), inplace=True)\n",
    "fillna_outliers_data = drop_outliers(fillna_outliers_data, outliers_columns, 90)\n",
    "\n",
    "fillna_outliers_data.to_csv('../data/cleaned/marketing_campaign_fillna_no_outliers.csv')"
   ]
  },
  {
   "cell_type": "code",
   "execution_count": 17,
   "metadata": {},
   "outputs": [
    {
     "name": "stderr",
     "output_type": "stream",
     "text": [
      "/tmp/ipykernel_109092/4190670348.py:4: FutureWarning: A value is trying to be set on a copy of a DataFrame or Series through chained assignment using an inplace method.\n",
      "The behavior will change in pandas 3.0. This inplace method will never work because the intermediate object on which we are setting values always behaves as a copy.\n",
      "\n",
      "For example, when doing 'df[col].method(value, inplace=True)', try using 'df.method({col: value}, inplace=True)' or df[col] = df[col].method(value) instead, to perform the operation inplace on the original object.\n",
      "\n",
      "\n",
      "  fillna_data['Income'].fillna(fillna_data['Income'].median(), inplace=True)\n"
     ]
    }
   ],
   "source": [
    "#Fill NA\n",
    "fillna_data = dataframe.copy()\n",
    "\n",
    "fillna_data['Income'].fillna(fillna_data['Income'].median(), inplace=True)\n",
    "\n",
    "fillna_data.to_csv('../data/cleaned/marketing_campaign_fillna.csv')"
   ]
  }
 ],
 "metadata": {
  "kernelspec": {
   "display_name": "analysis-fLh35L66-py3.11",
   "language": "python",
   "name": "python3"
  },
  "language_info": {
   "codemirror_mode": {
    "name": "ipython",
    "version": 3
   },
   "file_extension": ".py",
   "mimetype": "text/x-python",
   "name": "python",
   "nbconvert_exporter": "python",
   "pygments_lexer": "ipython3",
   "version": "3.11.5"
  }
 },
 "nbformat": 4,
 "nbformat_minor": 2
}
