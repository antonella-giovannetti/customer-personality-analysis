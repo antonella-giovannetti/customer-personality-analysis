{
 "cells": [
  {
   "cell_type": "code",
   "execution_count": 2,
   "metadata": {},
   "outputs": [],
   "source": [
    "from pandas import read_csv, DataFrame\n",
    "from sklearn.decomposition import FactorAnalysis, PCA\n",
    "\n",
    "from scripts.dataset_analyse import pca_visualize\n",
    "from scripts.dataset_preprocessing import scale_dataframe"
   ]
  },
  {
   "cell_type": "code",
   "execution_count": 3,
   "metadata": {},
   "outputs": [
    {
     "name": "stdout",
     "output_type": "stream",
     "text": [
      "<class 'pandas.core.frame.DataFrame'>\n",
      "RangeIndex: 2214 entries, 0 to 2213\n",
      "Data columns (total 27 columns):\n",
      " #   Column               Non-Null Count  Dtype  \n",
      "---  ------               --------------  -----  \n",
      " 0   Unnamed: 0           2214 non-null   int64  \n",
      " 1   Year_Birth           2214 non-null   int64  \n",
      " 2   Education            2214 non-null   int64  \n",
      " 3   Marital_Status       2214 non-null   int64  \n",
      " 4   Income               2214 non-null   float64\n",
      " 5   Kidhome              2214 non-null   int64  \n",
      " 6   Teenhome             2214 non-null   int64  \n",
      " 7   Dt_Customer          2214 non-null   int64  \n",
      " 8   Recency              2214 non-null   int64  \n",
      " 9   MntWines             2214 non-null   int64  \n",
      " 10  MntFruits            2214 non-null   int64  \n",
      " 11  MntMeatProducts      2214 non-null   int64  \n",
      " 12  MntFishProducts      2214 non-null   int64  \n",
      " 13  MntSweetProducts     2214 non-null   int64  \n",
      " 14  MntGoldProds         2214 non-null   int64  \n",
      " 15  NumDealsPurchases    2214 non-null   int64  \n",
      " 16  NumWebPurchases      2214 non-null   int64  \n",
      " 17  NumCatalogPurchases  2214 non-null   int64  \n",
      " 18  NumStorePurchases    2214 non-null   int64  \n",
      " 19  NumWebVisitsMonth    2214 non-null   int64  \n",
      " 20  AcceptedCmp3         2214 non-null   int64  \n",
      " 21  AcceptedCmp4         2214 non-null   int64  \n",
      " 22  AcceptedCmp5         2214 non-null   int64  \n",
      " 23  AcceptedCmp1         2214 non-null   int64  \n",
      " 24  AcceptedCmp2         2214 non-null   int64  \n",
      " 25  Complain             2214 non-null   int64  \n",
      " 26  Response             2214 non-null   int64  \n",
      "dtypes: float64(1), int64(26)\n",
      "memory usage: 467.1 KB\n"
     ]
    }
   ],
   "source": [
    "dataframe = read_csv(\"../data/cleaned/marketing_campaign_fillna_no_outliers.csv\")\n",
    "dataframe.info()"
   ]
  },
  {
   "cell_type": "code",
   "execution_count": 4,
   "metadata": {},
   "outputs": [],
   "source": [
    "dataframe = scale_dataframe(dataframe)"
   ]
  },
  {
   "cell_type": "code",
   "execution_count": 5,
   "metadata": {},
   "outputs": [],
   "source": [
    "factor_analysis = PCA(n_components=5)\n",
    "dataframe = factor_analysis.fit_transform(dataframe)\n",
    "dataframe = DataFrame(dataframe)\n",
    "pca_visualize(dataframe)"
   ]
  },
  {
   "cell_type": "code",
   "execution_count": 6,
   "metadata": {},
   "outputs": [
    {
     "data": {
      "text/html": [
       "<div>\n",
       "<style scoped>\n",
       "    .dataframe tbody tr th:only-of-type {\n",
       "        vertical-align: middle;\n",
       "    }\n",
       "\n",
       "    .dataframe tbody tr th {\n",
       "        vertical-align: top;\n",
       "    }\n",
       "\n",
       "    .dataframe thead th {\n",
       "        text-align: right;\n",
       "    }\n",
       "</style>\n",
       "<table border=\"1\" class=\"dataframe\">\n",
       "  <thead>\n",
       "    <tr style=\"text-align: right;\">\n",
       "      <th></th>\n",
       "      <th>0</th>\n",
       "      <th>1</th>\n",
       "      <th>2</th>\n",
       "      <th>3</th>\n",
       "      <th>4</th>\n",
       "    </tr>\n",
       "  </thead>\n",
       "  <tbody>\n",
       "    <tr>\n",
       "      <th>0</th>\n",
       "      <td>3.892138</td>\n",
       "      <td>0.304038</td>\n",
       "      <td>-0.203964</td>\n",
       "      <td>-2.669023</td>\n",
       "      <td>0.162568</td>\n",
       "    </tr>\n",
       "    <tr>\n",
       "      <th>1</th>\n",
       "      <td>-2.450238</td>\n",
       "      <td>-0.279627</td>\n",
       "      <td>-0.427251</td>\n",
       "      <td>1.703813</td>\n",
       "      <td>0.526508</td>\n",
       "    </tr>\n",
       "    <tr>\n",
       "      <th>2</th>\n",
       "      <td>1.708390</td>\n",
       "      <td>-0.253756</td>\n",
       "      <td>-1.138046</td>\n",
       "      <td>0.082120</td>\n",
       "      <td>-0.201259</td>\n",
       "    </tr>\n",
       "    <tr>\n",
       "      <th>3</th>\n",
       "      <td>-2.689694</td>\n",
       "      <td>-1.658180</td>\n",
       "      <td>0.224239</td>\n",
       "      <td>0.214385</td>\n",
       "      <td>-0.284862</td>\n",
       "    </tr>\n",
       "    <tr>\n",
       "      <th>4</th>\n",
       "      <td>-0.458972</td>\n",
       "      <td>-0.104795</td>\n",
       "      <td>-0.544420</td>\n",
       "      <td>0.243901</td>\n",
       "      <td>-0.538078</td>\n",
       "    </tr>\n",
       "  </tbody>\n",
       "</table>\n",
       "</div>"
      ],
      "text/plain": [
       "          0         1         2         3         4\n",
       "0  3.892138  0.304038 -0.203964 -2.669023  0.162568\n",
       "1 -2.450238 -0.279627 -0.427251  1.703813  0.526508\n",
       "2  1.708390 -0.253756 -1.138046  0.082120 -0.201259\n",
       "3 -2.689694 -1.658180  0.224239  0.214385 -0.284862\n",
       "4 -0.458972 -0.104795 -0.544420  0.243901 -0.538078"
      ]
     },
     "execution_count": 6,
     "metadata": {},
     "output_type": "execute_result"
    }
   ],
   "source": [
    "dataframe.head()"
   ]
  }
 ],
 "metadata": {
  "kernelspec": {
   "display_name": "analysis-fLh35L66-py3.11",
   "language": "python",
   "name": "python3"
  },
  "language_info": {
   "codemirror_mode": {
    "name": "ipython",
    "version": 3
   },
   "file_extension": ".py",
   "mimetype": "text/x-python",
   "name": "python",
   "nbconvert_exporter": "python",
   "pygments_lexer": "ipython3",
   "version": "3.11.5"
  }
 },
 "nbformat": 4,
 "nbformat_minor": 2
}
