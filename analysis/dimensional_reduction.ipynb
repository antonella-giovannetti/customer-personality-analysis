{
 "cells": [
  {
   "cell_type": "code",
   "execution_count": 19,
   "metadata": {},
   "outputs": [],
   "source": [
    "from pandas import read_csv, DataFrame\n",
    "from sklearn.preprocessing import LabelEncoder\n",
    "from sklearn.decomposition import FactorAnalysis, PCA"
   ]
  },
  {
   "cell_type": "code",
   "execution_count": 20,
   "metadata": {},
   "outputs": [
    {
     "name": "stdout",
     "output_type": "stream",
     "text": [
      "<class 'pandas.core.frame.DataFrame'>\n",
      "RangeIndex: 2216 entries, 0 to 2215\n",
      "Data columns (total 27 columns):\n",
      " #   Column               Non-Null Count  Dtype  \n",
      "---  ------               --------------  -----  \n",
      " 0   ID                   2216 non-null   int64  \n",
      " 1   Year_Birth           2216 non-null   int64  \n",
      " 2   Education            2216 non-null   object \n",
      " 3   Marital_Status       2216 non-null   object \n",
      " 4   Income               2216 non-null   float64\n",
      " 5   Kidhome              2216 non-null   int64  \n",
      " 6   Teenhome             2216 non-null   int64  \n",
      " 7   Dt_Customer          2216 non-null   object \n",
      " 8   Recency              2216 non-null   int64  \n",
      " 9   MntWines             2216 non-null   int64  \n",
      " 10  MntFruits            2216 non-null   int64  \n",
      " 11  MntMeatProducts      2216 non-null   int64  \n",
      " 12  MntFishProducts      2216 non-null   int64  \n",
      " 13  MntSweetProducts     2216 non-null   int64  \n",
      " 14  MntGoldProds         2216 non-null   int64  \n",
      " 15  NumDealsPurchases    2216 non-null   int64  \n",
      " 16  NumWebPurchases      2216 non-null   int64  \n",
      " 17  NumCatalogPurchases  2216 non-null   int64  \n",
      " 18  NumStorePurchases    2216 non-null   int64  \n",
      " 19  NumWebVisitsMonth    2216 non-null   int64  \n",
      " 20  AcceptedCmp3         2216 non-null   int64  \n",
      " 21  AcceptedCmp4         2216 non-null   int64  \n",
      " 22  AcceptedCmp5         2216 non-null   int64  \n",
      " 23  AcceptedCmp1         2216 non-null   int64  \n",
      " 24  AcceptedCmp2         2216 non-null   int64  \n",
      " 25  Complain             2216 non-null   int64  \n",
      " 26  Response             2216 non-null   int64  \n",
      "dtypes: float64(1), int64(23), object(3)\n",
      "memory usage: 467.6+ KB\n"
     ]
    }
   ],
   "source": [
    "dataframe = read_csv(\"../data/cleaned/marketing_campaign_dropna.csv\")\n",
    "dataframe.info()"
   ]
  },
  {
   "cell_type": "code",
   "execution_count": null,
   "metadata": {},
   "outputs": [],
   "source": [
    "dataframe = scale_dataframe(dataframe)"
   ]
  },
  {
   "cell_type": "code",
   "execution_count": 21,
   "metadata": {},
   "outputs": [
    {
     "name": "stdout",
     "output_type": "stream",
     "text": [
      "<class 'pandas.core.frame.DataFrame'>\n",
      "RangeIndex: 2216 entries, 0 to 2215\n",
      "Data columns (total 5 columns):\n",
      " #   Column  Non-Null Count  Dtype  \n",
      "---  ------  --------------  -----  \n",
      " 0   0       2216 non-null   float64\n",
      " 1   1       2216 non-null   float64\n",
      " 2   2       2216 non-null   float64\n",
      " 3   3       2216 non-null   float64\n",
      " 4   4       2216 non-null   float64\n",
      "dtypes: float64(5)\n",
      "memory usage: 86.7 KB\n"
     ]
    }
   ],
   "source": [
    "factor_analysis = PCA(n_components=5)\n",
    "dataframe = factor_analysis.fit_transform(dataframe)\n",
    "dataframe = DataFrame(dataframe)\n",
    "dataframe.info()"
   ]
  },
  {
   "cell_type": "code",
   "execution_count": 22,
   "metadata": {},
   "outputs": [
    {
     "data": {
      "text/html": [
       "<div>\n",
       "<style scoped>\n",
       "    .dataframe tbody tr th:only-of-type {\n",
       "        vertical-align: middle;\n",
       "    }\n",
       "\n",
       "    .dataframe tbody tr th {\n",
       "        vertical-align: top;\n",
       "    }\n",
       "\n",
       "    .dataframe thead th {\n",
       "        text-align: right;\n",
       "    }\n",
       "</style>\n",
       "<table border=\"1\" class=\"dataframe\">\n",
       "  <thead>\n",
       "    <tr style=\"text-align: right;\">\n",
       "      <th></th>\n",
       "      <th>0</th>\n",
       "      <th>1</th>\n",
       "      <th>2</th>\n",
       "      <th>3</th>\n",
       "      <th>4</th>\n",
       "    </tr>\n",
       "  </thead>\n",
       "  <tbody>\n",
       "    <tr>\n",
       "      <th>0</th>\n",
       "      <td>5895.142933</td>\n",
       "      <td>-75.750592</td>\n",
       "      <td>396.644529</td>\n",
       "      <td>246.865404</td>\n",
       "      <td>77.177922</td>\n",
       "    </tr>\n",
       "    <tr>\n",
       "      <th>1</th>\n",
       "      <td>-5912.059500</td>\n",
       "      <td>-3403.282875</td>\n",
       "      <td>-292.296682</td>\n",
       "      <td>-41.205023</td>\n",
       "      <td>-26.085662</td>\n",
       "    </tr>\n",
       "    <tr>\n",
       "      <th>2</th>\n",
       "      <td>19363.174870</td>\n",
       "      <td>-1480.413499</td>\n",
       "      <td>-78.517962</td>\n",
       "      <td>-114.936922</td>\n",
       "      <td>43.839142</td>\n",
       "    </tr>\n",
       "    <tr>\n",
       "      <th>3</th>\n",
       "      <td>-25602.178861</td>\n",
       "      <td>637.957001</td>\n",
       "      <td>-93.806146</td>\n",
       "      <td>18.915429</td>\n",
       "      <td>-13.463340</td>\n",
       "    </tr>\n",
       "    <tr>\n",
       "      <th>4</th>\n",
       "      <td>6043.733721</td>\n",
       "      <td>-274.135315</td>\n",
       "      <td>-197.046830</td>\n",
       "      <td>-11.778609</td>\n",
       "      <td>2.365961</td>\n",
       "    </tr>\n",
       "  </tbody>\n",
       "</table>\n",
       "</div>"
      ],
      "text/plain": [
       "              0            1           2           3          4\n",
       "0   5895.142933   -75.750592  396.644529  246.865404  77.177922\n",
       "1  -5912.059500 -3403.282875 -292.296682  -41.205023 -26.085662\n",
       "2  19363.174870 -1480.413499  -78.517962 -114.936922  43.839142\n",
       "3 -25602.178861   637.957001  -93.806146   18.915429 -13.463340\n",
       "4   6043.733721  -274.135315 -197.046830  -11.778609   2.365961"
      ]
     },
     "execution_count": 22,
     "metadata": {},
     "output_type": "execute_result"
    }
   ],
   "source": [
    "dataframe.head()"
   ]
  }
 ],
 "metadata": {
  "kernelspec": {
   "display_name": "analysis-fLh35L66-py3.11",
   "language": "python",
   "name": "python3"
  },
  "language_info": {
   "codemirror_mode": {
    "name": "ipython",
    "version": 3
   },
   "file_extension": ".py",
   "mimetype": "text/x-python",
   "name": "python",
   "nbconvert_exporter": "python",
   "pygments_lexer": "ipython3",
   "version": "3.11.5"
  }
 },
 "nbformat": 4,
 "nbformat_minor": 2
}
